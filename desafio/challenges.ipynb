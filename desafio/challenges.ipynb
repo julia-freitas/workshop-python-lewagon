{
 "cells": [
  {
   "cell_type": "markdown",
   "metadata": {},
   "source": [
    "# Python Web Scraping — Try it yourself!"
   ]
  },
  {
   "cell_type": "markdown",
   "metadata": {},
   "source": [
    "Let's start by importing the necessary libraries and parsing the front page of the [Books To Scrape](http://books.toscrape.com/index.html) website.\n",
    "\n",
    "Every paragraph in this document is a *cell*, that can contain other text description, or a snipper of runnable Python code. \n",
    "\n",
    "To run the cell, select it and click \"Run\" in the toolbar, or just press `Shift-Enter`. Double-clicking the cell allows you to edit its contents.\n",
    "\n",
    "**Pro tip** 🤓:  Run your cells often to catch possible errors early! "
   ]
  },
  {
   "cell_type": "code",
   "execution_count": 1,
   "metadata": {},
   "outputs": [],
   "source": [
    "import requests\n",
    "from bs4 import BeautifulSoup\n",
    "\n",
    "url = \"http://books.toscrape.com/index.html\"\n",
    "response = requests.get(url)\n",
    "html = response.content\n",
    "scraped = BeautifulSoup(html, 'html.parser')"
   ]
  },
  {
   "cell_type": "markdown",
   "metadata": {},
   "source": [
    "After **running** a cell above, you'll be able to use the `scraped` variable to look for elements on the page."
   ]
  },
  {
   "cell_type": "code",
   "execution_count": null,
   "metadata": {
    "scrolled": false
   },
   "outputs": [],
   "source": [
    "# Run this cell to see how:\n",
    "\n",
    "scraped.h1"
   ]
  },
  {
   "cell_type": "markdown",
   "metadata": {},
   "source": [
    "😲 If you feel lost, you can refresh your knowledge on the Learn platform inside \"Takeaways\" section and in lecture slides!"
   ]
  },
  {
   "cell_type": "markdown",
   "metadata": {},
   "source": [
    "### Challenge 1: Print the title of the page"
   ]
  },
  {
   "cell_type": "markdown",
   "metadata": {},
   "source": [
    "To print output in Python, you can use the `print()` function. It can either take a literal value as an argument (`print(\"hello\")`, `print(2)`), or a variable — in that case the function will print the value that the variable refers to! \n",
    "\n",
    "```python\n",
    "name = \"Bob\"\n",
    "print(name) # => Bob\n",
    "```\n",
    "\n",
    "Remember you need to print just the _text_ inside the `<title>` tag, not the whole element!"
   ]
  },
  {
   "cell_type": "code",
   "execution_count": 3,
   "metadata": {},
   "outputs": [],
   "source": [
    "# write your code here\n",
    "\n"
   ]
  },
  {
   "cell_type": "markdown",
   "metadata": {},
   "source": [
    "<details>\n",
    "<summary>\n",
    "    <strong>Reveal answer 🤫</strong>\n",
    "</summary>\n",
    "<pre>\n",
    "title_text = scraped.title.text.strip()\n",
    "print(title_text)\n",
    "</pre>    \n",
    "</details>"
   ]
  },
  {
   "cell_type": "markdown",
   "metadata": {},
   "source": [
    "### Challenge 2: Print the *full* title of the first book on a page"
   ]
  },
  {
   "cell_type": "markdown",
   "metadata": {},
   "source": [
    "Remember how to locate a single element with BeautifulSoup. If lost, revisit the slides on the Learn platform, or visit the \"Takeaways\" section for a quick recap."
   ]
  },
  {
   "cell_type": "code",
   "execution_count": null,
   "metadata": {},
   "outputs": [],
   "source": [
    "# write your code here\n",
    "\n"
   ]
  },
  {
   "cell_type": "markdown",
   "metadata": {},
   "source": [
    "<details>\n",
    "<summary>\n",
    "    <strong>Reveal answer 🤫</strong>\n",
    "</summary>\n",
    "<pre>\n",
    "title = scraped.article.h3.a[\"title\"]\n",
    "print(title)\n",
    "</pre>    \n",
    "</details>"
   ]
  },
  {
   "cell_type": "markdown",
   "metadata": {},
   "source": [
    "### Challenge 3: Print *all* the full titles from the page"
   ]
  },
  {
   "cell_type": "markdown",
   "metadata": {},
   "source": [
    "Use the Beautiful Soup methods that return a _collection_ of elements. Remind yourself of how to **loop** over them (`for.. in..` construct)"
   ]
  },
  {
   "cell_type": "code",
   "execution_count": null,
   "metadata": {},
   "outputs": [],
   "source": [
    "# write your code here\n",
    "\n"
   ]
  },
  {
   "cell_type": "markdown",
   "metadata": {},
   "source": [
    "<details>\n",
    "<summary>\n",
    "    <strong>Reveal answer 🤫</strong>\n",
    "</summary>\n",
    "<pre>\n",
    "links = scraped.find_all(\"a\", title=True)\n",
    "for link in links:\n",
    "    print(link[\"title\"])\n",
    "</pre>    \n",
    "</details>"
   ]
  },
  {
   "cell_type": "markdown",
   "metadata": {},
   "source": [
    "### Challenge 4: Print all the *prices* from the page"
   ]
  },
  {
   "cell_type": "markdown",
   "metadata": {},
   "source": [
    "Here's how you can get rid of a currency symbol and convert text to a numerical value (given that the inital text value is in a variable called `price`):\n",
    "\n",
    "`price = float(price.text.lstrip(\"£\"))`\n",
    "\n",
    "You can use a **CSS class selector** for this task"
   ]
  },
  {
   "cell_type": "code",
   "execution_count": null,
   "metadata": {},
   "outputs": [],
   "source": [
    "# write your code here\n",
    "\n"
   ]
  },
  {
   "cell_type": "markdown",
   "metadata": {},
   "source": [
    "<details>\n",
    "<summary>\n",
    "    <strong>Reveal answer 🤫</strong>\n",
    "</summary>\n",
    "<pre>\n",
    "prices = scraped.select(\".price_color\")\n",
    "for price in prices:\n",
    "    price = float(price.text.lstrip(\"£\"))\n",
    "    print(price)\n",
    "</pre>    \n",
    "</details>"
   ]
  },
  {
   "cell_type": "markdown",
   "metadata": {},
   "source": [
    "### Challenge 5: Get a corresponding price for each title"
   ]
  },
  {
   "cell_type": "markdown",
   "metadata": {},
   "source": [
    "This is how the resulting data structure should look like (a List of Dictionaries):\n",
    "\n",
    "```\n",
    "[{'Sharp Objects': 'WICKED above her hipbone, GIRL across her heart...'}, {'Sapiens: A Brief History of Humankind': 'From a renowned historian comes a groundbreaking narrative of humanity’s ...}]\n",
    "```\n",
    "\n",
    "Note that the real descriptions will be much longer."
   ]
  },
  {
   "cell_type": "markdown",
   "metadata": {},
   "source": [
    "A reminder on how you can append a Dictionary into an List:\n",
    "\n",
    "```python\n",
    "title_prices = []\n",
    "\n",
    "# Iterate over all articles \n",
    "    # Get article's title as `title` \n",
    "    # Get article's price as `price`\n",
    "    title_prices.append({title: price})\n",
    "\n",
    "```"
   ]
  },
  {
   "cell_type": "code",
   "execution_count": null,
   "metadata": {},
   "outputs": [],
   "source": [
    "title_prices = []\n",
    "\n",
    "# write your code here\n",
    "\n",
    "    \n",
    "print(title_prices)"
   ]
  },
  {
   "cell_type": "markdown",
   "metadata": {},
   "source": [
    "<details>\n",
    "<summary>\n",
    "    <strong>Reveal answer 🤫</strong>\n",
    "</summary>\n",
    "<pre>\n",
    "title_prices = []\n",
    "\n",
    "articles = scraped.select(\".product_pod\")\n",
    "\n",
    "for article in articles:\n",
    "    title = article.h3.a[\"title\"]\n",
    "    price = article.find(\"p\", class_=\"price_color\")\n",
    "    price_float = float(price.text.lstrip(\"£\"))\n",
    "    title_prices.append({title: price_float}) # Create a Dictionary and append to Array\n",
    "    \n",
    "print(title_prices)\n",
    "</pre>    \n",
    "</details>"
   ]
  },
  {
   "cell_type": "markdown",
   "metadata": {},
   "source": [
    "## Above and beyond"
   ]
  },
  {
   "cell_type": "markdown",
   "metadata": {},
   "source": [
    "Now you can click on \"Save to browser storage\" icon next to \"Download\" on top of this notebook. Next time you connect to MyBinder you can restore your work by clicking \"Restore from browser storage\". \n",
    "\n",
    "Take as much time as you need to build a scraper for any website that you want! Keep in mind the information you are trying to scrape should be in public access and not protected by login/password."
   ]
  },
  {
   "cell_type": "code",
   "execution_count": 41,
   "metadata": {},
   "outputs": [],
   "source": [
    "# Write your code for a complete scraper when you feel like it :)"
   ]
  }
 ],
 "metadata": {
  "kernelspec": {
   "display_name": "Python 3",
   "language": "python",
   "name": "python3"
  },
  "language_info": {
   "codemirror_mode": {
    "name": "ipython",
    "version": 3
   },
   "file_extension": ".py",
   "mimetype": "text/x-python",
   "name": "python",
   "nbconvert_exporter": "python",
   "pygments_lexer": "ipython3",
   "version": "3.7.3"
  }
 },
 "nbformat": 4,
 "nbformat_minor": 2
}
